{
  "nbformat": 4,
  "nbformat_minor": 0,
  "metadata": {
    "colab": {
      "provenance": []
    },
    "kernelspec": {
      "name": "python3",
      "display_name": "Python 3"
    },
    "language_info": {
      "name": "python"
    }
  },
  "cells": [
    {
      "cell_type": "markdown",
      "source": [
        "1)Створіть одновимірний масив (вектор) з сумами добутків двох попередніх чисел та\n",
        "їхнього суми, починаючи з 1, та виведіть його значення"
      ],
      "metadata": {
        "id": "E8JZ_oYJJkkn"
      }
    },
    {
      "cell_type": "code",
      "execution_count": 1,
      "metadata": {
        "colab": {
          "base_uri": "https://localhost:8080/"
        },
        "id": "jHLuKZR2EFq0",
        "outputId": "923c7603-a45b-4505-b51c-0cee942a406d"
      },
      "outputs": [
        {
          "output_type": "stream",
          "name": "stdout",
          "text": [
            "Результуючий масив: [3.00000000e+00 7.00000000e+00 3.10000000e+01 2.55000000e+02\n",
            " 8.19100000e+03 2.09715100e+06 1.71798692e+10 3.60287970e+16\n",
            " 6.18970020e+26 2.23007452e+43]\n"
          ]
        }
      ],
      "source": [
        "import numpy as np\n",
        "\n",
        "# Початкові значення\n",
        "a = 1\n",
        "b = 1\n",
        "\n",
        "# Визначаємо розмір масиву\n",
        "n = 10  # наприклад, 10 елементів\n",
        "\n",
        "# Ініціалізація масиву з нулями\n",
        "result_array = np.zeros(n)\n",
        "\n",
        "# Заповнення масиву значеннями\n",
        "for i in range(n):\n",
        "    product = a * b  # добуток попередніх двох чисел\n",
        "    summation = a + b  # сума попередніх двох чисел\n",
        "    result_array[i] = product + summation  # записуємо результат у масив\n",
        "\n",
        "    # Оновлення a і b для наступної ітерації\n",
        "    a, b = b, product + summation\n",
        "\n",
        "# Виведення масиву\n",
        "print(\"Результуючий масив:\", result_array)\n"
      ]
    },
    {
      "cell_type": "markdown",
      "source": [
        "2)Створіть двовимірний масив (матрицю) розміром 3x3, заповніть його значеннями\n",
        "випадкових цілих чисел від -10 до 10."
      ],
      "metadata": {
        "id": "JNnM2dpnJppi"
      }
    },
    {
      "cell_type": "code",
      "source": [
        "import numpy as np\n",
        "\n",
        "# Визначення розміру матриці\n",
        "rows, cols = 3, 3\n",
        "\n",
        "# Створення матриці з випадкових цілих чисел від -10 до 10\n",
        "matrix = np.random.randint(-10, 11, size=(rows, cols))\n",
        "\n",
        "# Виведення матриці\n",
        "print(\"Матриця 3x3 з випадковими цілими числами від -10 до 10:\")\n",
        "print(matrix)\n"
      ],
      "metadata": {
        "colab": {
          "base_uri": "https://localhost:8080/"
        },
        "id": "OPuppntVJtuu",
        "outputId": "36bd9cb7-839b-4241-b451-d047da021296"
      },
      "execution_count": 1,
      "outputs": [
        {
          "output_type": "stream",
          "name": "stdout",
          "text": [
            "Матриця 3x3 з випадковими цілими числами від -10 до 10:\n",
            "[[-10   2   4]\n",
            " [ -3   8  10]\n",
            " [ -1  -9  -4]]\n"
          ]
        }
      ]
    },
    {
      "cell_type": "markdown",
      "source": [
        "3)Створіть масив розміром 5x5, заповніть його випадковими дійсними числами від 0 до\n",
        "1 та знайдіть відсоток чисел, які є простими."
      ],
      "metadata": {
        "id": "4rq8GBm0J4jt"
      }
    },
    {
      "cell_type": "code",
      "source": [
        "import numpy as np\n",
        "from sympy import isprime\n",
        "\n",
        "# Створення матриці 5x5 з випадковими дійсними числами від 0 до 1\n",
        "matrix = np.random.rand(5, 5)\n",
        "\n",
        "# Округлення чисел до найближчих цілих\n",
        "rounded_matrix = np.rint(matrix).astype(int)\n",
        "\n",
        "# Функція для підрахунку простих чисел\n",
        "def count_primes(matrix):\n",
        "    prime_count = 0\n",
        "    total_count = matrix.size\n",
        "    for num in matrix.flatten():\n",
        "        if isprime(num) and num > 1:\n",
        "            prime_count += 1\n",
        "    return (prime_count / total_count) * 100\n",
        "\n",
        "# Знаходимо відсоток простих чисел після округлення\n",
        "percentage_of_primes = count_primes(rounded_matrix)\n",
        "\n",
        "# Виведення матриці та відсотка простих чисел\n",
        "print(\"Матриця 5x5 з випадковими дійсними числами від 0 до 1:\")\n",
        "print(matrix)\n",
        "print(\"\\nМатриця після округлення до найближчих цілих чисел:\")\n",
        "print(rounded_matrix)\n",
        "print(f\"\\nВідсоток простих чисел у матриці: {percentage_of_primes:.2f}%\")\n"
      ],
      "metadata": {
        "colab": {
          "base_uri": "https://localhost:8080/"
        },
        "id": "elbOZWHWLLbi",
        "outputId": "f3dbcdd6-16a8-4969-ddc9-95444008caf7"
      },
      "execution_count": 3,
      "outputs": [
        {
          "output_type": "stream",
          "name": "stdout",
          "text": [
            "Матриця 5x5 з випадковими дійсними числами від 0 до 1:\n",
            "[[0.587137   0.20511401 0.95259728 0.26061774 0.1634582 ]\n",
            " [0.77095606 0.01636869 0.61880037 0.34750469 0.90300228]\n",
            " [0.78540774 0.76310731 0.19095723 0.03225447 0.05020952]\n",
            " [0.17596233 0.04981281 0.66228985 0.9594635  0.95698083]\n",
            " [0.2543853  0.59566248 0.41698615 0.05051294 0.64798179]]\n",
            "\n",
            "Матриця після округлення до найближчих цілих чисел:\n",
            "[[1 0 1 0 0]\n",
            " [1 0 1 0 1]\n",
            " [1 1 0 0 0]\n",
            " [0 0 1 1 1]\n",
            " [0 1 0 0 1]]\n",
            "\n",
            "Відсоток простих чисел у матриці: 0.00%\n"
          ]
        }
      ]
    },
    {
      "cell_type": "markdown",
      "source": [
        "4)Створіть масив розміром 3x3, заповніть його випадковими дійсними числами в\n",
        "діапазоні від -1.1 до 1.1 та виведіть його значення.\n"
      ],
      "metadata": {
        "id": "FTaMchKpLRK0"
      }
    },
    {
      "cell_type": "code",
      "source": [
        "import numpy as np\n",
        "\n",
        "# Створення матриці 3x3 з випадковими дійсними числами в діапазоні від -1.1 до 1.1\n",
        "matrix = np.random.uniform(-1.1, 1.1, size=(3, 3))\n",
        "\n",
        "# Виведення матриці\n",
        "print(\"Матриця 3x3 з випадковими дійсними числами від -1.1 до 1.1:\")\n",
        "print(matrix)\n"
      ],
      "metadata": {
        "colab": {
          "base_uri": "https://localhost:8080/"
        },
        "id": "S7bQoecdLc7O",
        "outputId": "7497ad98-7cf6-4668-8b77-b83a42f95a07"
      },
      "execution_count": 4,
      "outputs": [
        {
          "output_type": "stream",
          "name": "stdout",
          "text": [
            "Матриця 3x3 з випадковими дійсними числами від -1.1 до 1.1:\n",
            "[[-0.50302627  0.26147256  1.03464218]\n",
            " [-0.92516776 -0.17357111 -0.16353404]\n",
            " [-0.44626242 -0.99389737 -1.07569033]]\n"
          ]
        }
      ]
    },
    {
      "cell_type": "markdown",
      "source": [
        "5)Створіть два одновимірних масиви розміром 4, заповніть їх випадковими цілими\n",
        "числами в діапазоні від 15 до 25 та виконайте на них поелементні операції додавання,\n",
        "віднімання та множення."
      ],
      "metadata": {
        "id": "j_7BvpXxLfLt"
      }
    },
    {
      "cell_type": "code",
      "source": [
        "import numpy as np\n",
        "\n",
        "# Створення двох одновимірних масивів розміром 4 з випадковими цілими числами в діапазоні від 15 до 25\n",
        "array1 = np.random.randint(15, 26, size=4)\n",
        "array2 = np.random.randint(15, 26, size=4)\n",
        "\n",
        "# Виконання поелементних операцій\n",
        "addition = array1 + array2\n",
        "subtraction = array1 - array2\n",
        "multiplication = array1 * array2\n",
        "\n",
        "# Виведення результатів\n",
        "print(\"Масив 1:\")\n",
        "print(array1)\n",
        "\n",
        "print(\"\\nМасив 2:\")\n",
        "print(array2)\n",
        "\n",
        "print(\"\\nПоелементне додавання:\")\n",
        "print(addition)\n",
        "\n",
        "print(\"\\nПоелементне віднімання:\")\n",
        "print(subtraction)\n",
        "\n",
        "print(\"\\nПоелементне множення:\")\n",
        "print(multiplication)\n"
      ],
      "metadata": {
        "colab": {
          "base_uri": "https://localhost:8080/"
        },
        "id": "rXUitx_8Ljf7",
        "outputId": "470c587e-8d51-45b7-8411-3e14f9508b4e"
      },
      "execution_count": 5,
      "outputs": [
        {
          "output_type": "stream",
          "name": "stdout",
          "text": [
            "Масив 1:\n",
            "[18 20 24 23]\n",
            "\n",
            "Масив 2:\n",
            "[23 22 22 19]\n",
            "\n",
            "Поелементне додавання:\n",
            "[41 42 46 42]\n",
            "\n",
            "Поелементне віднімання:\n",
            "[-5 -2  2  4]\n",
            "\n",
            "Поелементне множення:\n",
            "[414 440 528 437]\n"
          ]
        }
      ]
    },
    {
      "cell_type": "markdown",
      "source": [
        "6)Створіть дві матриці 3x3, заповніть їх довільними цілими числами від 1 до 10 та\n",
        "знайдіть їх добуток."
      ],
      "metadata": {
        "id": "oqa0eohOMGJe"
      }
    },
    {
      "cell_type": "code",
      "source": [
        "import numpy as np\n",
        "\n",
        "# Створення двох матриць 3x3 з випадковими цілими числами від 1 до 10\n",
        "matrix1 = np.random.randint(1, 11, size=(3, 3))\n",
        "matrix2 = np.random.randint(1, 11, size=(3, 3))\n",
        "\n",
        "# Обчислення добутку матриць\n",
        "product_matrix = np.dot(matrix1, matrix2)\n",
        "\n",
        "# Виведення результатів\n",
        "print(\"Матриця 1:\")\n",
        "print(matrix1)\n",
        "\n",
        "print(\"\\nМатриця 2:\")\n",
        "print(matrix2)\n",
        "\n",
        "print(\"\\nДобуток матриць:\")\n",
        "print(product_matrix)\n"
      ],
      "metadata": {
        "colab": {
          "base_uri": "https://localhost:8080/"
        },
        "id": "rmG0k8NiMMBE",
        "outputId": "88279349-2b0e-46a6-ecdc-fbe06fd28401"
      },
      "execution_count": 6,
      "outputs": [
        {
          "output_type": "stream",
          "name": "stdout",
          "text": [
            "Матриця 1:\n",
            "[[ 6  5  4]\n",
            " [ 4  2  7]\n",
            " [ 1  7 10]]\n",
            "\n",
            "Матриця 2:\n",
            "[[ 4  7  1]\n",
            " [ 3 10  4]\n",
            " [10  6  2]]\n",
            "\n",
            "Добуток матриць:\n",
            "[[ 79 116  34]\n",
            " [ 92  90  26]\n",
            " [125 137  49]]\n"
          ]
        }
      ]
    },
    {
      "cell_type": "markdown",
      "source": [
        "7)Створіть дві матриці розміром 2x3 та 3x3, заповніть їх випадковими цілими числами\n",
        "в діапазоні від 1 до 5 та перемножте їх між собою."
      ],
      "metadata": {
        "id": "HqpBimTHMRoU"
      }
    },
    {
      "cell_type": "code",
      "source": [
        "import numpy as np\n",
        "\n",
        "# Створення матриці 2x3 з випадковими цілими числами від 1 до 5\n",
        "matrix1 = np.random.randint(1, 6, size=(2, 3))\n",
        "\n",
        "# Створення матриці 3x3 з випадковими цілими числами від 1 до 5\n",
        "matrix2 = np.random.randint(1, 6, size=(3, 3))\n",
        "\n",
        "# Обчислення добутку матриць\n",
        "product_matrix = np.dot(matrix1, matrix2)\n",
        "\n",
        "# Виведення результатів\n",
        "print(\"Матриця 2x3:\")\n",
        "print(matrix1)\n",
        "\n",
        "print(\"\\nМатриця 3x3:\")\n",
        "print(matrix2)\n",
        "\n",
        "print(\"\\nДобуток матриць:\")\n",
        "print(product_matrix)\n"
      ],
      "metadata": {
        "colab": {
          "base_uri": "https://localhost:8080/"
        },
        "id": "L9dcMj_pMav8",
        "outputId": "1859fbb1-d45f-4346-d17d-677fb99c5ae6"
      },
      "execution_count": 7,
      "outputs": [
        {
          "output_type": "stream",
          "name": "stdout",
          "text": [
            "Матриця 2x3:\n",
            "[[2 5 5]\n",
            " [3 5 1]]\n",
            "\n",
            "Матриця 3x3:\n",
            "[[2 1 3]\n",
            " [1 3 4]\n",
            " [3 5 5]]\n",
            "\n",
            "Добуток матриць:\n",
            "[[24 42 51]\n",
            " [14 23 34]]\n"
          ]
        }
      ]
    },
    {
      "cell_type": "markdown",
      "source": [
        "8)Створіть матрицю розміром 2x2, заповніть її випадковими цілими числами в діапазоні\n",
        "від 1 до 7 та знайдіть її обернену матрицю."
      ],
      "metadata": {
        "id": "oz9DAtPIMfYG"
      }
    },
    {
      "cell_type": "code",
      "source": [
        "import numpy as np\n",
        "\n",
        "# Створення матриці 2x2 з випадковими цілими числами від 1 до 7\n",
        "matrix = np.random.randint(1, 8, size=(2, 2))\n",
        "\n",
        "# Функція для обчислення оберненої матриці\n",
        "def invert_matrix(matrix):\n",
        "    try:\n",
        "        # Обчислення оберненої матриці\n",
        "        inv_matrix = np.linalg.inv(matrix)\n",
        "        return inv_matrix\n",
        "    except np.linalg.LinAlgError:\n",
        "        # Якщо матриця сингулярна (не має оберненої матриці)\n",
        "        return \"Матриця не має оберненої матриці\"\n",
        "\n",
        "# Обчислення оберненої матриці\n",
        "inverse_matrix = invert_matrix(matrix)\n",
        "\n",
        "# Виведення результатів\n",
        "print(\"Матриця 2x2:\")\n",
        "print(matrix)\n",
        "\n",
        "print(\"\\nОбернена матриця:\")\n",
        "print(inverse_matrix)\n"
      ],
      "metadata": {
        "colab": {
          "base_uri": "https://localhost:8080/"
        },
        "id": "ZbAhr9RAMlm4",
        "outputId": "24ec80b2-3748-4837-b3c7-0698be8eb1ee"
      },
      "execution_count": 8,
      "outputs": [
        {
          "output_type": "stream",
          "name": "stdout",
          "text": [
            "Матриця 2x2:\n",
            "[[3 1]\n",
            " [3 4]]\n",
            "\n",
            "Обернена матриця:\n",
            "[[ 0.44444444 -0.11111111]\n",
            " [-0.33333333  0.33333333]]\n"
          ]
        }
      ]
    },
    {
      "cell_type": "markdown",
      "source": [
        "9)Створіть матрицю розміром 3x3, заповніть її випадковими дійсними числами в\n",
        "діапазоні від 5 до 10 та транспонуйте її."
      ],
      "metadata": {
        "id": "GC3LLqv5MtFQ"
      }
    },
    {
      "cell_type": "code",
      "source": [
        "import numpy as np\n",
        "\n",
        "# Створення матриці 3x3 з випадковими дійсними числами в діапазоні від 5 до 10\n",
        "matrix = np.random.uniform(5, 10, size=(3, 3))\n",
        "\n",
        "# Транспонування матриці\n",
        "transposed_matrix = np.transpose(matrix)\n",
        "\n",
        "# Виведення результатів\n",
        "print(\"Матриця 3x3:\")\n",
        "print(matrix)\n",
        "\n",
        "print(\"\\nТранспонована матриця:\")\n",
        "print(transposed_matrix)\n"
      ],
      "metadata": {
        "colab": {
          "base_uri": "https://localhost:8080/"
        },
        "id": "NFqFK86XMy4c",
        "outputId": "e532bc9a-e75c-4da8-da98-d63f19e3f265"
      },
      "execution_count": 9,
      "outputs": [
        {
          "output_type": "stream",
          "name": "stdout",
          "text": [
            "Матриця 3x3:\n",
            "[[5.69201622 9.41650643 9.52629693]\n",
            " [8.83269935 8.98427775 9.87724694]\n",
            " [6.3130572  7.96261873 6.4671099 ]]\n",
            "\n",
            "Транспонована матриця:\n",
            "[[5.69201622 8.83269935 6.3130572 ]\n",
            " [9.41650643 8.98427775 7.96261873]\n",
            " [9.52629693 9.87724694 6.4671099 ]]\n"
          ]
        }
      ]
    },
    {
      "cell_type": "markdown",
      "source": [
        "10)Створіть матрицю розміром 3x4 та вектор розміром 4x1, заповніть матрицю\n",
        "випадковими дійсними числами від 0 до 1, а вектор - випадковими дійсними числами\n",
        "від 0 до 1, і знайдіть добуток матриці на вектор."
      ],
      "metadata": {
        "id": "kBAa2zcgM_VA"
      }
    },
    {
      "cell_type": "code",
      "source": [
        "import numpy as np\n",
        "\n",
        "# Створення матриці 3x4 з випадковими дійсними числами від 0 до 1\n",
        "matrix = np.random.uniform(0, 1, size=(3, 4))\n",
        "\n",
        "# Створення вектора 4x1 з випадковими дійсними числами від 0 до 1\n",
        "vector = np.random.uniform(0, 1, size=(4, 1))\n",
        "\n",
        "# Обчислення добутку матриці на вектор\n",
        "product = np.dot(matrix, vector)\n",
        "\n",
        "# Виведення результатів\n",
        "print(\"Матриця 3x4:\")\n",
        "print(matrix)\n",
        "\n",
        "print(\"\\nВектор 4x1:\")\n",
        "print(vector)\n",
        "\n",
        "print(\"\\nДобуток матриці на вектор:\")\n",
        "print(product)\n"
      ],
      "metadata": {
        "colab": {
          "base_uri": "https://localhost:8080/"
        },
        "id": "L2fPVjfhNDRo",
        "outputId": "2c231896-3b35-4fd7-c13f-94f6950db81d"
      },
      "execution_count": 10,
      "outputs": [
        {
          "output_type": "stream",
          "name": "stdout",
          "text": [
            "Матриця 3x4:\n",
            "[[0.17324886 0.92851167 0.11766022 0.26537472]\n",
            " [0.96884046 0.95225153 0.67174223 0.4079219 ]\n",
            " [0.34375067 0.25436413 0.17095461 0.38484761]]\n",
            "\n",
            "Вектор 4x1:\n",
            "[[0.45325899]\n",
            " [0.71610808]\n",
            " [0.47277262]\n",
            " [0.63325925]]\n",
            "\n",
            "Добуток матриці на вектор:\n",
            "[[0.96711884]\n",
            " [1.69695231]\n",
            " [0.66249127]]\n"
          ]
        }
      ]
    },
    {
      "cell_type": "markdown",
      "source": [
        "11)Створіть матрицю розміром 2x3 та вектор розміром 3x1, заповніть матрицю\n",
        "випадковими цілими числами в діапазоні від 1 до 10, а вектор - випадковими цілими\n",
        "числами в діапазоні від 1 до 10, і знайдіть добуток матриці на вектор."
      ],
      "metadata": {
        "id": "SletmNY7NG9Y"
      }
    },
    {
      "cell_type": "code",
      "source": [
        "import numpy as np\n",
        "\n",
        "# Створення матриці 2x3 з випадковими цілими числами від 1 до 10\n",
        "matrix = np.random.randint(1, 11, size=(2, 3))\n",
        "\n",
        "# Створення вектора 3x1 з випадковими цілими числами від 1 до 10\n",
        "vector = np.random.randint(1, 11, size=(3, 1))\n",
        "\n",
        "# Обчислення добутку матриці на вектор\n",
        "product = np.dot(matrix, vector)\n",
        "\n",
        "# Виведення результатів\n",
        "print(\"Матриця 2x3:\")\n",
        "print(matrix)\n",
        "\n",
        "print(\"\\nВектор 3x1:\")\n",
        "print(vector)\n",
        "\n",
        "print(\"\\nДобуток матриці на вектор:\")\n",
        "print(product)\n"
      ],
      "metadata": {
        "colab": {
          "base_uri": "https://localhost:8080/"
        },
        "id": "1LRc-1YQNMR6",
        "outputId": "b71f2ac1-f675-45e8-9221-9aa60a9d0c40"
      },
      "execution_count": 11,
      "outputs": [
        {
          "output_type": "stream",
          "name": "stdout",
          "text": [
            "Матриця 2x3:\n",
            "[[ 8 10  2]\n",
            " [ 5  5  2]]\n",
            "\n",
            "Вектор 3x1:\n",
            "[[6]\n",
            " [1]\n",
            " [6]]\n",
            "\n",
            "Добуток матриці на вектор:\n",
            "[[70]\n",
            " [47]]\n"
          ]
        }
      ]
    },
    {
      "cell_type": "markdown",
      "source": [
        "12)Створіть дві матриці розміром 2x2, заповніть їх випадковими цілими числами в\n",
        "діапазоні від -2 до 2 та знайдіть суму всіх елементів обох матриць."
      ],
      "metadata": {
        "id": "RsEa7-iSNPYX"
      }
    },
    {
      "cell_type": "code",
      "source": [
        "import numpy as np\n",
        "\n",
        "# Створення двох матриць 2x2 з випадковими цілими числами від -2 до 2\n",
        "matrix1 = np.random.randint(-2, 3, size=(2, 2))\n",
        "matrix2 = np.random.randint(-2, 3, size=(2, 2))\n",
        "\n",
        "# Обчислення суми всіх елементів обох матриць\n",
        "sum_matrix1 = np.sum(matrix1)\n",
        "sum_matrix2 = np.sum(matrix2)\n",
        "total_sum = sum_matrix1 + sum_matrix2\n",
        "\n",
        "# Виведення результатів\n",
        "print(\"Матриця 1:\")\n",
        "print(matrix1)\n",
        "\n",
        "print(\"\\nМатриця 2:\")\n",
        "print(matrix2)\n",
        "\n",
        "print(\"\\nСума всіх елементів Матриці 1:\")\n",
        "print(sum_matrix1)\n",
        "\n",
        "print(\"\\nСума всіх елементів Матриці 2:\")\n",
        "print(sum_matrix2)\n",
        "\n",
        "print(\"\\nСума всіх елементів обох матриць:\")\n",
        "print(total_sum)\n"
      ],
      "metadata": {
        "colab": {
          "base_uri": "https://localhost:8080/"
        },
        "id": "8sbCj3BNNWzk",
        "outputId": "0038ac01-12b8-4ce1-9348-08e97df8596c"
      },
      "execution_count": 12,
      "outputs": [
        {
          "output_type": "stream",
          "name": "stdout",
          "text": [
            "Матриця 1:\n",
            "[[ 2  2]\n",
            " [-2  1]]\n",
            "\n",
            "Матриця 2:\n",
            "[[ 1 -2]\n",
            " [-1  2]]\n",
            "\n",
            "Сума всіх елементів Матриці 1:\n",
            "3\n",
            "\n",
            "Сума всіх елементів Матриці 2:\n",
            "0\n",
            "\n",
            "Сума всіх елементів обох матриць:\n",
            "3\n"
          ]
        }
      ]
    },
    {
      "cell_type": "markdown",
      "source": [
        "13) Створіть дві матриці розміром 3x3, заповніть їх випадковими дійсними числами в\n",
        "діапазоні від 0 до 1 та знайдіть суму їх елементів.\n"
      ],
      "metadata": {
        "id": "g8rOhxc1NZAY"
      }
    },
    {
      "cell_type": "code",
      "source": [
        "import numpy as np\n",
        "\n",
        "# Створення двох матриць 3x3 з випадковими дійсними числами від 0 до 1\n",
        "matrix1 = np.random.uniform(0, 1, size=(3, 3))\n",
        "matrix2 = np.random.uniform(0, 1, size=(3, 3))\n",
        "\n",
        "# Обчислення суми всіх елементів кожної матриці\n",
        "sum_matrix1 = np.sum(matrix1)\n",
        "sum_matrix2 = np.sum(matrix2)\n",
        "total_sum = sum_matrix1 + sum_matrix2\n",
        "\n",
        "# Виведення результатів\n",
        "print(\"Матриця 1:\")\n",
        "print(matrix1)\n",
        "\n",
        "print(\"\\nМатриця 2:\")\n",
        "print(matrix2)\n",
        "\n",
        "print(\"\\nСума всіх елементів Матриці 1:\")\n",
        "print(sum_matrix1)\n",
        "\n",
        "print(\"\\nСума всіх елементів Матриці 2:\")\n",
        "print(sum_matrix2)\n",
        "\n",
        "print(\"\\nСума всіх елементів обох матриць:\")\n",
        "print(total_sum)\n"
      ],
      "metadata": {
        "colab": {
          "base_uri": "https://localhost:8080/"
        },
        "id": "acLfIhMYNf1K",
        "outputId": "d94f20d4-6ae5-48d5-f614-5ce3ff8ed897"
      },
      "execution_count": 13,
      "outputs": [
        {
          "output_type": "stream",
          "name": "stdout",
          "text": [
            "Матриця 1:\n",
            "[[0.32886281 0.103516   0.59796882]\n",
            " [0.61183552 0.88220979 0.00971164]\n",
            " [0.90723114 0.85300881 0.12680221]]\n",
            "\n",
            "Матриця 2:\n",
            "[[0.16812021 0.77418293 0.20670926]\n",
            " [0.07906064 0.09197425 0.48155685]\n",
            " [0.27031764 0.10457366 0.22703027]]\n",
            "\n",
            "Сума всіх елементів Матриці 1:\n",
            "4.421146726312617\n",
            "\n",
            "Сума всіх елементів Матриці 2:\n",
            "2.403525711004394\n",
            "\n",
            "Сума всіх елементів обох матриць:\n",
            "6.824672437317012\n"
          ]
        }
      ]
    },
    {
      "cell_type": "markdown",
      "source": [
        "14)Створіть матрицю розміром 3x3, заповніть її випадковими дійсними числами в\n",
        "діапазоні від -10 до 10 та знайдіть суму елементів на побічній діагоналі."
      ],
      "metadata": {
        "id": "vR329w7KNkyJ"
      }
    },
    {
      "cell_type": "code",
      "source": [
        "import numpy as np\n",
        "\n",
        "# Створення матриці 3x3 з випадковими дійсними числами від -10 до 10\n",
        "matrix = np.random.uniform(-10, 10, size=(3, 3))\n",
        "\n",
        "# Обчислення суми елементів на побічній діагоналі\n",
        "# Побічна діагональ має індекси (0,2), (1,1), (2,0)\n",
        "sum_secondary_diagonal = np.sum([matrix[i, 2-i] for i in range(3)])\n",
        "\n",
        "# Виведення результатів\n",
        "print(\"Матриця 3x3:\")\n",
        "print(matrix)\n",
        "\n",
        "print(\"\\nСума елементів на побічній діагоналі:\")\n",
        "print(sum_secondary_diagonal)\n"
      ],
      "metadata": {
        "colab": {
          "base_uri": "https://localhost:8080/"
        },
        "id": "KqkutlpZNpGA",
        "outputId": "50f2da46-2f71-452d-8de2-28554da6147d"
      },
      "execution_count": 14,
      "outputs": [
        {
          "output_type": "stream",
          "name": "stdout",
          "text": [
            "Матриця 3x3:\n",
            "[[ 4.64971248 -9.44701731 -7.49553868]\n",
            " [-3.73411366 -6.71213978  2.21352389]\n",
            " [ 6.44039542  6.82822221 -0.06842785]]\n",
            "\n",
            "Сума елементів на побічній діагоналі:\n",
            "-7.767283041865948\n"
          ]
        }
      ]
    },
    {
      "cell_type": "markdown",
      "source": [
        "15)Створіть матрицю розміром 3x3, заповніть її випадковими дійсними числами в\n",
        "діапазоні від 0 до 1 та знайдіть вектор-стовпчик, що містить найбільший елемент у\n",
        "кожному стовпці матриці."
      ],
      "metadata": {
        "id": "27voCihlN43g"
      }
    },
    {
      "cell_type": "code",
      "source": [
        "import numpy as np\n",
        "\n",
        "# Створення матриці 3x3 з випадковими дійсними числами від 0 до 1\n",
        "matrix = np.random.uniform(0, 1, size=(3, 3))\n",
        "\n",
        "# Знаходження найбільшого елемента в кожному стовпці\n",
        "max_elements = np.max(matrix, axis=0)\n",
        "\n",
        "# Перетворення масиву в вектор-стовпчик\n",
        "vector_column = max_elements.reshape(-1, 1)\n",
        "\n",
        "# Виведення результатів\n",
        "print(\"Матриця 3x3:\")\n",
        "print(matrix)\n",
        "\n",
        "print(\"\\nВектор-стовпчик, що містить найбільший елемент у кожному стовпці:\")\n",
        "print(vector_column)\n"
      ],
      "metadata": {
        "colab": {
          "base_uri": "https://localhost:8080/"
        },
        "id": "jrVUYWacN98-",
        "outputId": "5a5a6d23-63b8-4f54-b216-38061eade6e6"
      },
      "execution_count": 15,
      "outputs": [
        {
          "output_type": "stream",
          "name": "stdout",
          "text": [
            "Матриця 3x3:\n",
            "[[0.27619036 0.54530917 0.62695468]\n",
            " [0.6498351  0.04090073 0.90028221]\n",
            " [0.26820646 0.77682988 0.74198144]]\n",
            "\n",
            "Вектор-стовпчик, що містить найбільший елемент у кожному стовпці:\n",
            "[[0.6498351 ]\n",
            " [0.77682988]\n",
            " [0.90028221]]\n"
          ]
        }
      ]
    },
    {
      "cell_type": "markdown",
      "source": [
        "Висновок: Засвоїли використання ColabGoogle. Ми навчилися створювати матриці різних розмірів та заповнювати їх випадковими значеннями у заданих діапазонах.Знаходження суми всіх елементів матриць. Визначення суми елементів на основній та побічній діагоналях матриці. Матричні операції: Виконання матричних операцій, таких як добуток матриці на вектор.Транспонування матриці: Зміна розташування рядків і стовпців матриці для отримання транспонованої версії. Ці знання дозволяють ефективно працювати з даними у вигляді матриць і векторів, що є основою для багатьох чисельних і наукових обчислень."
      ],
      "metadata": {
        "id": "OCqW_FyVOakK"
      }
    }
  ]
}